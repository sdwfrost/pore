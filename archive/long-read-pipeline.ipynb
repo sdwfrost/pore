{
 "cells": [
  {
   "cell_type": "markdown",
   "metadata": {},
   "source": [
    "# Processing Nanopore reads"
   ]
  },
  {
   "cell_type": "markdown",
   "metadata": {},
   "source": [
    "## Quality control"
   ]
  },
  {
   "cell_type": "code",
   "execution_count": null,
   "metadata": {},
   "outputs": [],
   "source": [
    "!NanoStat --summary ./sequencing_summary/*_sequencing_summary.txt --readtype 1D"
   ]
  },
  {
   "cell_type": "markdown",
   "metadata": {},
   "source": [
    "## Demultiplexing using porechop"
   ]
  },
  {
   "cell_type": "markdown",
   "metadata": {},
   "source": [
    "First we use Porechop to demultiplex the reads. Here is the usage information. In Jupyter notebooks, the `!` tells the notebook to use the shell."
   ]
  },
  {
   "cell_type": "code",
   "execution_count": null,
   "metadata": {},
   "outputs": [],
   "source": [
    "!porechop -h"
   ]
  },
  {
   "cell_type": "markdown",
   "metadata": {},
   "source": [
    "The following looks for FASTQ files in the `fastq_pass` directory, and outputs the demultiplexed data into the `work` directory (using `-b`), using 16 threads (you should choose something appropriate for your machine) and requiring two barcodes in order to classify a read."
   ]
  },
  {
   "cell_type": "code",
   "execution_count": null,
   "metadata": {},
   "outputs": [],
   "source": [
    "!porechop -i ./fastq_pass -b work --format fastq -t 16 --require_two_barcodes"
   ]
  },
  {
   "cell_type": "markdown",
   "metadata": {},
   "source": [
    "You should check the output to make sure the inferred kit and barcode match up. This lists the output files."
   ]
  },
  {
   "cell_type": "code",
   "execution_count": null,
   "metadata": {},
   "outputs": [],
   "source": [
    "!ls ./work"
   ]
  },
  {
   "cell_type": "markdown",
   "metadata": {},
   "source": [
    "## Make a list of barcodes"
   ]
  },
  {
   "cell_type": "markdown",
   "metadata": {},
   "source": [
    "I extract the detected barcodes from the `work` directory to use later."
   ]
  },
  {
   "cell_type": "code",
   "execution_count": null,
   "metadata": {},
   "outputs": [],
   "source": [
    "import glob\n",
    "fastq_files = glob.glob(\"work/BC*.fastq\")\n",
    "barcodes = [fq.split(\"/\")[1].split(\".\")[0] for fq in fastq_files]\n",
    "barcodes"
   ]
  },
  {
   "cell_type": "markdown",
   "metadata": {},
   "source": [
    "## Overlap using minimap2"
   ]
  },
  {
   "cell_type": "markdown",
   "metadata": {},
   "source": [
    "The following uses a special curly brace syntax to loop through the barcodes. Note that these files can be very large!"
   ]
  },
  {
   "cell_type": "code",
   "execution_count": null,
   "metadata": {},
   "outputs": [],
   "source": [
    "for bc in barcodes:\n",
    "    !minimap2 -x ava-ont -t 16 work/{bc}.fastq work/{bc}.fastq > work/{bc}.paf.gz"
   ]
  },
  {
   "cell_type": "markdown",
   "metadata": {},
   "source": [
    "## Assemble using miniasm"
   ]
  },
  {
   "cell_type": "code",
   "execution_count": null,
   "metadata": {},
   "outputs": [],
   "source": [
    "for bc in barcodes:\n",
    "    !miniasm -o 300 -m 50 -i 0.1 -f work/{bc}.fastq work/{bc}.paf.gz > work/{bc}.gfa"
   ]
  },
  {
   "cell_type": "markdown",
   "metadata": {},
   "source": [
    "## Convert GFA files to FASTA"
   ]
  },
  {
   "cell_type": "code",
   "execution_count": null,
   "metadata": {},
   "outputs": [],
   "source": [
    "for bc in barcodes:\n",
    "    !awk '$1 ~/S/ {print \">\"$2\"\\n\"$3}' work/{bc}.gfa > work/{bc}.gfa.fas"
   ]
  },
  {
   "cell_type": "markdown",
   "metadata": {},
   "source": [
    "## Polish using medaka"
   ]
  }
 ],
 "metadata": {
  "@webio": {
   "lastCommId": "4d554c46e7b44a7585a9ccc0f66ca186",
   "lastKernelId": "5a12aa54-868c-4314-813a-bbe48e971e96"
  },
  "kernelspec": {
   "display_name": "Python 3",
   "language": "python",
   "name": "python3"
  },
  "language_info": {
   "codemirror_mode": {
    "name": "ipython",
    "version": 3
   },
   "file_extension": ".py",
   "mimetype": "text/x-python",
   "name": "python",
   "nbconvert_exporter": "python",
   "pygments_lexer": "ipython3",
   "version": "3.6.7"
  }
 },
 "nbformat": 4,
 "nbformat_minor": 2
}
