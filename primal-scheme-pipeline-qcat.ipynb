{
 "cells": [
  {
   "cell_type": "markdown",
   "metadata": {},
   "source": [
    "# Processing Nanopore reads"
   ]
  },
  {
   "cell_type": "markdown",
   "metadata": {},
   "source": [
    "Set variables"
   ]
  },
  {
   "cell_type": "code",
   "execution_count": null,
   "metadata": {},
   "outputs": [],
   "source": [
    "SEQ_SUMMARY_DIR=\"./sequencing_summary\"\n",
    "FASTQ_PASS_DIR = \"./fastq_pass\"\n",
    "WORK_DIR = \"./work\""
   ]
  },
  {
   "cell_type": "markdown",
   "metadata": {},
   "source": [
    "## Quality control"
   ]
  },
  {
   "cell_type": "code",
   "execution_count": null,
   "metadata": {},
   "outputs": [],
   "source": [
    "!NanoStat --summary ./sequencing_summary/*_sequencing_summary.txt --readtype 1D"
   ]
  },
  {
   "cell_type": "markdown",
   "metadata": {},
   "source": [
    "## Demultiplexing using qcat"
   ]
  },
  {
   "cell_type": "code",
   "execution_count": null,
   "metadata": {},
   "outputs": [],
   "source": [
    "!cat ./fastq_pass/*.fastq | qcat -b ./work --trim"
   ]
  },
  {
   "cell_type": "markdown",
   "metadata": {},
   "source": [
    "## Make a list of barcodes"
   ]
  },
  {
   "cell_type": "markdown",
   "metadata": {},
   "source": [
    "I extract the detected barcodes from the `work` directory to use later."
   ]
  },
  {
   "cell_type": "code",
   "execution_count": null,
   "metadata": {},
   "outputs": [],
   "source": [
    "import glob\n",
    "all_files = glob.glob(\"work/*.fastq\")\n",
    "fastq_files = glob.glob(\"work/barcode*.fastq\")\n",
    "barcodes = [fq.split(\"/\")[1].split(\".\")[0] for fq in fastq_files]\n",
    "barcodes"
   ]
  },
  {
   "cell_type": "markdown",
   "metadata": {},
   "source": [
    "## Summarise each output file"
   ]
  },
  {
   "cell_type": "code",
   "execution_count": null,
   "metadata": {},
   "outputs": [],
   "source": [
    "for f in all_files:\n",
    "    !echo {f};NanoStat -t 16 --fastq {f}; echo \"\\n\""
   ]
  },
  {
   "cell_type": "markdown",
   "metadata": {},
   "source": [
    "## Identify references using Mash"
   ]
  },
  {
   "cell_type": "markdown",
   "metadata": {},
   "source": [
    "The following uses a special curly brace syntax to loop through the barcodes."
   ]
  },
  {
   "cell_type": "code",
   "execution_count": null,
   "metadata": {},
   "outputs": [],
   "source": [
    "for bc in barcodes:\n",
    "    !echo {bc};mash screen -p 16 -w refs/denv_chikv.msh work/{bc}.fastq > work/{bc}.screen"
   ]
  },
  {
   "cell_type": "markdown",
   "metadata": {},
   "source": [
    "The following code sorts the Mash results, finds the top reference, and extracts it from the FASTA file."
   ]
  },
  {
   "cell_type": "code",
   "execution_count": null,
   "metadata": {},
   "outputs": [],
   "source": [
    "for bc in barcodes:\n",
    "    !samtools faidx refs/denv_chikv.fas `sort -gr work/{bc}.screen | cut -f 5 | head -1` > work/{bc}_ref.fa"
   ]
  },
  {
   "cell_type": "markdown",
   "metadata": {},
   "source": [
    "## Map using graphmap"
   ]
  },
  {
   "cell_type": "code",
   "execution_count": null,
   "metadata": {},
   "outputs": [],
   "source": [
    "for bc in barcodes:\n",
    "    !graphmap align -t 16 -r work/{bc}_ref.fa -d work/{bc}.fastq -o work/{bc}.graphmap.sam"
   ]
  },
  {
   "cell_type": "markdown",
   "metadata": {},
   "source": [
    "## Convert, sort and index the BAM files"
   ]
  },
  {
   "cell_type": "code",
   "execution_count": null,
   "metadata": {},
   "outputs": [],
   "source": [
    "for bc in barcodes:\n",
    "    !samtools view -bS work/{bc}.graphmap.sam | samtools sort - -o work/{bc}.graphmap.bam"
   ]
  },
  {
   "cell_type": "code",
   "execution_count": null,
   "metadata": {},
   "outputs": [],
   "source": [
    "for bc in barcodes:\n",
    "    !samtools index work/{bc}.graphmap.bam"
   ]
  },
  {
   "cell_type": "markdown",
   "metadata": {},
   "source": [
    "## Get coverage from BAM file"
   ]
  },
  {
   "cell_type": "code",
   "execution_count": null,
   "metadata": {},
   "outputs": [],
   "source": [
    "for bc in barcodes:\n",
    "    !mosdepth -t 16 work/{bc} work/{bc}.graphmap.bam"
   ]
  },
  {
   "cell_type": "code",
   "execution_count": null,
   "metadata": {},
   "outputs": [],
   "source": [
    "import pandas as pd\n",
    "import matplotlib.pyplot as plt"
   ]
  },
  {
   "cell_type": "code",
   "execution_count": null,
   "metadata": {},
   "outputs": [],
   "source": [
    "fig = plt.figure(figsize=[16,16])\n",
    "for i in range(len(barcodes)):\n",
    "    bc = barcodes[i]\n",
    "    plt.subplot(len(barcodes), 1, i+1)\n",
    "    df = pd.read_table(\"work/\"+bc+\".per-base.bed.gz\",compression='gzip',sep='\\t',header=None)\n",
    "    plt.yscale('log')\n",
    "    plt.title(bc)\n",
    "    plt.step(df[1],df[3])"
   ]
  },
  {
   "cell_type": "markdown",
   "metadata": {},
   "source": [
    "## Extract consensus from each BAM"
   ]
  },
  {
   "cell_type": "code",
   "execution_count": null,
   "metadata": {},
   "outputs": [],
   "source": [
    "for bc in barcodes:\n",
    "    !echo {bc}\n",
    "    !kindel consensus work/{bc}.graphmap.bam > work/{bc}_consensus.fa"
   ]
  },
  {
   "cell_type": "markdown",
   "metadata": {},
   "source": [
    "## Concatenate draft assemblies"
   ]
  },
  {
   "cell_type": "code",
   "execution_count": null,
   "metadata": {},
   "outputs": [],
   "source": [
    "from Bio import SeqIO\n",
    "records = []\n",
    "blacklist = set([\"barcode24\"])\n",
    "for bc in barcodes:\n",
    "    if bc in blacklist:\n",
    "        continue\n",
    "    record=SeqIO.read(\"work/\"+bc+\"_consensus.fa\",format=\"fasta\")\n",
    "    record.id=bc\n",
    "    record.name=bc\n",
    "    record.description=bc\n",
    "    records.append(record)\n",
    "SeqIO.write(records,\"work/consensus.fa\",format=\"fasta\")"
   ]
  },
  {
   "cell_type": "markdown",
   "metadata": {},
   "source": [
    "## Concatenate sequences with references"
   ]
  },
  {
   "cell_type": "code",
   "execution_count": null,
   "metadata": {},
   "outputs": [],
   "source": [
    "!cat refs/chikv.fas work/consensus.fa > work/consensus_withrefs.fa"
   ]
  },
  {
   "cell_type": "markdown",
   "metadata": {},
   "source": [
    "## Align sequences"
   ]
  },
  {
   "cell_type": "code",
   "execution_count": null,
   "metadata": {},
   "outputs": [],
   "source": [
    "!fftnsi --thread 16 work/consensus_withrefs.fa > work/consensus_withrefs.fa.fftnsi"
   ]
  },
  {
   "cell_type": "markdown",
   "metadata": {},
   "source": [
    "## Make a quick tree"
   ]
  },
  {
   "cell_type": "code",
   "execution_count": null,
   "metadata": {},
   "outputs": [],
   "source": [
    "!iqtree -s work/consensus_withrefs.fa.fftnsi -m GTR+G4 -nt 4 -pre work/consensus_withrefs -fast"
   ]
  }
 ],
 "metadata": {
  "@webio": {
   "lastCommId": "eb9e61e4925a40068031a345464f079c",
   "lastKernelId": "8e7992c0-a5ca-4281-8c5c-209f60233c05"
  },
  "kernelspec": {
   "display_name": "Python 3",
   "language": "python",
   "name": "python3"
  },
  "language_info": {
   "codemirror_mode": {
    "name": "ipython",
    "version": 3
   },
   "file_extension": ".py",
   "mimetype": "text/x-python",
   "name": "python",
   "nbconvert_exporter": "python",
   "pygments_lexer": "ipython3",
   "version": "3.5.2"
  }
 },
 "nbformat": 4,
 "nbformat_minor": 2
}
